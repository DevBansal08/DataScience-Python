{
 "cells": [
  {
   "cell_type": "code",
   "execution_count": 1,
   "id": "290a9039",
   "metadata": {},
   "outputs": [],
   "source": [
    "import pandas as pd\n",
    "a = pd.read_excel(r\"D:\\Srijan\\NGO-Calling_Dev.xlsx\")\n",
    "b = pd.read_excel(r\"D:\\Srijan\\NGO Calling Report-Kartik (1).xlsx\")\n",
    "df1 = pd.read_excel(r\"D:\\Srijan\\NGO Calling Report-Kartik.xlsx\")\n",
    "\n",
    "f= pd.concat([a,b,df1], ignore_index=True)\n",
    "f.to_excel(\"Ngo Calling db.xlsx\")"
   ]
  }
 ],
 "metadata": {
  "kernelspec": {
   "display_name": "my_venv",
   "language": "python",
   "name": "python3"
  },
  "language_info": {
   "codemirror_mode": {
    "name": "ipython",
    "version": 3
   },
   "file_extension": ".py",
   "mimetype": "text/x-python",
   "name": "python",
   "nbconvert_exporter": "python",
   "pygments_lexer": "ipython3",
   "version": "3.12.8"
  }
 },
 "nbformat": 4,
 "nbformat_minor": 5
}
