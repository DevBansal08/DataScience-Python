{
 "cells": [
  {
   "cell_type": "code",
   "execution_count": null,
   "id": "dc4c8dbe",
   "metadata": {},
   "outputs": [],
   "source": [
    "import pandas as pd\n",
    "df = pd.read_excel(r\"D:\\DataScience_Python\\Srijan\\Ngo Calling db.xlsx\", )\n",
    "\n",
    "a= pd.concat([df,df1], ignore_index=True)\n",
    "a.to_csv(\"NGO db.xlsx\")\n"
   ]
  }
 ],
 "metadata": {
  "kernelspec": {
   "display_name": "my_venv",
   "language": "python",
   "name": "python3"
  },
  "language_info": {
   "codemirror_mode": {
    "name": "ipython",
    "version": 3
   },
   "file_extension": ".py",
   "mimetype": "text/x-python",
   "name": "python",
   "nbconvert_exporter": "python",
   "pygments_lexer": "ipython3",
   "version": "3.12.8"
  }
 },
 "nbformat": 4,
 "nbformat_minor": 5
}
