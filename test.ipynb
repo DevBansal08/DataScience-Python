{
 "cells": [
  {
   "cell_type": "code",
   "execution_count": 1,
   "id": "4d2ff547-e72f-41a8-8955-30a7407ebfd2",
   "metadata": {},
   "outputs": [
    {
     "name": "stdout",
     "output_type": "stream",
     "text": [
      "Hello World\n"
     ]
    }
   ],
   "source": [
    "print(\"Hello World\")"
   ]
  },
  {
   "cell_type": "code",
   "execution_count": 1,
   "id": "8e49f6c1-81b6-4300-a3a1-1cd4ee5bd69a",
   "metadata": {},
   "outputs": [
    {
     "name": "stdout",
     "output_type": "stream",
     "text": [
      "Dev\n"
     ]
    }
   ],
   "source": [
    "print(\"Dev\")"
   ]
  },
  {
   "cell_type": "code",
   "execution_count": 2,
   "id": "f9a17dbc",
   "metadata": {},
   "outputs": [
    {
     "name": "stdout",
     "output_type": "stream",
     "text": [
      "21\n"
     ]
    }
   ],
   "source": [
    "print(11 +10)"
   ]
  },
  {
   "cell_type": "code",
   "execution_count": null,
   "id": "eaf64ccf",
   "metadata": {},
   "outputs": [],
   "source": []
  }
 ],
 "metadata": {
  "kernelspec": {
   "display_name": "my_venv",
   "language": "python",
   "name": "python3"
  },
  "language_info": {
   "codemirror_mode": {
    "name": "ipython",
    "version": 3
   },
   "file_extension": ".py",
   "mimetype": "text/x-python",
   "name": "python",
   "nbconvert_exporter": "python",
   "pygments_lexer": "ipython3",
   "version": "3.12.8"
  }
 },
 "nbformat": 4,
 "nbformat_minor": 5
}
